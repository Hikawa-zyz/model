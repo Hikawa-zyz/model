{
 "cells": [
  {
   "cell_type": "markdown",
   "metadata": {},
   "source": [
    "# 导入库"
   ]
  },
  {
   "cell_type": "code",
   "execution_count": 223,
   "metadata": {},
   "outputs": [],
   "source": [
    "# 导入必要的库\n",
    "import pandas as pd\n",
    "import numpy as np\n",
    "from sklearn.model_selection import train_test_split\n",
    "from sklearn.preprocessing import MinMaxScaler, LabelEncoder\n",
    "import torch\n",
    "import torch.nn as nn\n",
    "import torch.nn.functional as F\n",
    "import torch.optim as optim\n",
    "from torch.utils.data import TensorDataset, DataLoader\n",
    "import matplotlib.pyplot as plt\n",
    "import cv2\n",
    "import mediapipe as mp\n",
    "from collections import deque\n",
    "import random\n",
    "from sklearn.metrics import confusion_matrix\n",
    "import seaborn as sns\n",
    "import math\n",
    "from torch.optim import lr_scheduler\n"
   ]
  },
  {
   "cell_type": "markdown",
   "metadata": {},
   "source": [
    "# 加载数据"
   ]
  },
  {
   "cell_type": "code",
   "execution_count": 224,
   "metadata": {},
   "outputs": [],
   "source": [
    "# 1. 加载和预处理数据\n",
    "data = pd.read_csv('D:\\helloworld\\VT1\\data\\keypoints2.csv')\n",
    "X = data.drop('label', axis=1).values\n",
    "y = data['label'].values\n"
   ]
  },
  {
   "cell_type": "code",
   "execution_count": 225,
   "metadata": {},
   "outputs": [],
   "source": [
    "scaler = MinMaxScaler()\n",
    "X = scaler.fit_transform(X)\n"
   ]
  },
  {
   "cell_type": "code",
   "execution_count": 226,
   "metadata": {},
   "outputs": [
    {
     "data": {
      "text/plain": [
       "array([[0.93388152, 0.78938367, 0.92981653, ..., 0.9276406 , 0.58331999,\n",
       "        0.88718399],\n",
       "       [0.94525129, 0.79481047, 0.94289053, ..., 0.92345961, 0.58209952,\n",
       "        0.8807991 ],\n",
       "       [0.95304569, 0.79293109, 0.94833042, ..., 0.92306028, 0.58154152,\n",
       "        0.88030847],\n",
       "       ...,\n",
       "       [0.01078312, 0.26391562, 0.17474516, ..., 0.5414239 , 0.40837272,\n",
       "        0.49730566],\n",
       "       [0.00619659, 0.26097199, 0.16970664, ..., 0.54589843, 0.40690443,\n",
       "        0.5004999 ],\n",
       "       [0.06663486, 0.31096485, 0.20290592, ..., 0.54300267, 0.40485625,\n",
       "        0.50085526]])"
      ]
     },
     "execution_count": 226,
     "metadata": {},
     "output_type": "execute_result"
    }
   ],
   "source": [
    "X"
   ]
  },
  {
   "cell_type": "code",
   "execution_count": 227,
   "metadata": {},
   "outputs": [],
   "source": [
    "# 标签编码\n",
    "label_encoder = LabelEncoder()\n",
    "y = label_encoder.fit_transform(y)\n"
   ]
  },
  {
   "cell_type": "code",
   "execution_count": 228,
   "metadata": {},
   "outputs": [],
   "source": [
    "# 设置每个序列的长度\n",
    "seq_length = 4\n",
    "batch_size = 128"
   ]
  },
  {
   "cell_type": "code",
   "execution_count": 229,
   "metadata": {},
   "outputs": [],
   "source": [
    "# num_samples, seq_length, num_features\n",
    "\n",
    "num_samples = len(X) // seq_length\n",
    "num_features = X.shape[1]\n",
    "X_reshaped = X[:num_samples * seq_length].reshape((num_samples, seq_length, num_features))\n"
   ]
  },
  {
   "cell_type": "code",
   "execution_count": 230,
   "metadata": {},
   "outputs": [
    {
     "data": {
      "text/plain": [
       "array([[[0.93388152, 0.78938367, 0.92981653, ..., 0.9276406 ,\n",
       "         0.58331999, 0.88718399],\n",
       "        [0.94525129, 0.79481047, 0.94289053, ..., 0.92345961,\n",
       "         0.58209952, 0.8807991 ],\n",
       "        [0.95304569, 0.79293109, 0.94833042, ..., 0.92306028,\n",
       "         0.58154152, 0.88030847],\n",
       "        [0.94493625, 0.78899772, 0.93902299, ..., 0.92479992,\n",
       "         0.58232971, 0.88276847]],\n",
       "\n",
       "       [[0.1876214 , 0.77398932, 0.21373266, ..., 0.93578848,\n",
       "         0.4266105 , 0.8847608 ],\n",
       "        [0.94662799, 0.79515533, 0.94476706, ..., 0.92242546,\n",
       "         0.58077156, 0.8775228 ],\n",
       "        [0.956487  , 0.7898505 , 0.94937662, ..., 0.92531794,\n",
       "         0.58112631, 0.88145443],\n",
       "        [0.93771539, 0.79261599, 0.93440703, ..., 0.93142226,\n",
       "         0.58285598, 0.88830723]],\n",
       "\n",
       "       [[0.1830829 , 0.77786612, 0.20763806, ..., 0.93160326,\n",
       "         0.42841506, 0.87932872],\n",
       "        [1.        , 0.77010348, 0.98807018, ..., 0.92876396,\n",
       "         0.59819134, 0.89551123],\n",
       "        [0.96087731, 0.788718  , 0.95874349, ..., 0.9374565 ,\n",
       "         0.58498344, 0.89366537],\n",
       "        [0.95414107, 0.79521753, 0.95269468, ..., 0.93640295,\n",
       "         0.58871101, 0.89745171]],\n",
       "\n",
       "       ...,\n",
       "\n",
       "       [[0.08269157, 0.17127267, 0.1993454 , ..., 0.53939344,\n",
       "         0.40422363, 0.48402062],\n",
       "        [0.07970784, 0.17180036, 0.19725258, ..., 0.54471546,\n",
       "         0.40594383, 0.4918885 ],\n",
       "        [0.90261961, 0.19081921, 0.81747611, ..., 0.5507107 ,\n",
       "         0.60592753, 0.49265991],\n",
       "        [0.02333065, 0.22093372, 0.16623721, ..., 0.53437094,\n",
       "         0.40400033, 0.48851387]],\n",
       "\n",
       "       [[0.        , 0.21076088, 0.15525476, ..., 0.53889468,\n",
       "         0.40388691, 0.49743744],\n",
       "        [0.04474593, 0.29141497, 0.20065596, ..., 0.5246805 ,\n",
       "         0.40580406, 0.48020452],\n",
       "        [0.04141119, 0.29168702, 0.20269041, ..., 0.52697261,\n",
       "         0.40673641, 0.48330286],\n",
       "        [0.03483921, 0.28908002, 0.18799493, ..., 0.52885425,\n",
       "         0.40655575, 0.48484291]],\n",
       "\n",
       "       [[0.03493579, 0.29110427, 0.19331764, ..., 0.52870161,\n",
       "         0.40762606, 0.48535608],\n",
       "        [0.01078312, 0.26391562, 0.17474516, ..., 0.5414239 ,\n",
       "         0.40837272, 0.49730566],\n",
       "        [0.00619659, 0.26097199, 0.16970664, ..., 0.54589843,\n",
       "         0.40690443, 0.5004999 ],\n",
       "        [0.06663486, 0.31096485, 0.20290592, ..., 0.54300267,\n",
       "         0.40485625, 0.50085526]]])"
      ]
     },
     "execution_count": 230,
     "metadata": {},
     "output_type": "execute_result"
    }
   ],
   "source": [
    "X_reshaped"
   ]
  },
  {
   "cell_type": "code",
   "execution_count": 231,
   "metadata": {},
   "outputs": [],
   "source": [
    "y_reshaped = y[:num_samples * seq_length:seq_length]\n"
   ]
  },
  {
   "cell_type": "markdown",
   "metadata": {},
   "source": [
    "# 划分训练集和测试集\n"
   ]
  },
  {
   "cell_type": "code",
   "execution_count": 232,
   "metadata": {},
   "outputs": [],
   "source": [
    "X_train, X_test, y_train, y_test = train_test_split(X_reshaped, y_reshaped, test_size=0.2, random_state=42)\n"
   ]
  },
  {
   "cell_type": "code",
   "execution_count": 233,
   "metadata": {},
   "outputs": [],
   "source": [
    "# 转换数据为 PyTorch 张量\n",
    "# 使用 dtype=torch.float32 明确指定数据类型为 float32\n",
    "X_train = torch.tensor(X_train, dtype=torch.float32)  # 训练数据\n",
    "y_train = torch.tensor(y_train, dtype=torch.long)     # 训练标签\n",
    "X_test = torch.tensor(X_test, dtype=torch.float32)    # 测试数据\n",
    "y_test = torch.tensor(y_test, dtype=torch.long)       # 测试标签\n"
   ]
  },
  {
   "cell_type": "code",
   "execution_count": 234,
   "metadata": {},
   "outputs": [],
   "source": [
    "# 将数据转换为 PyTorch 张量\n",
    "X_train_tensor = torch.as_tensor(X_train, dtype=torch.float32)\n",
    "y_train_tensor = torch.as_tensor(y_train, dtype=torch.long)\n",
    "X_test_tensor = torch.as_tensor(X_test, dtype=torch.float32)\n",
    "y_test_tensor = torch.as_tensor(y_test, dtype=torch.long)\n"
   ]
  },
  {
   "cell_type": "code",
   "execution_count": 235,
   "metadata": {},
   "outputs": [],
   "source": [
    "# 创建 TensorDataset\n",
    "train_dataset = TensorDataset(X_train_tensor, y_train_tensor)\n",
    "test_dataset = TensorDataset(X_test_tensor, y_test_tensor)\n"
   ]
  },
  {
   "cell_type": "code",
   "execution_count": 236,
   "metadata": {},
   "outputs": [],
   "source": [
    "# 创建 DataLoader\n",
    "\n",
    "train_loader = DataLoader(train_dataset, batch_size=batch_size, shuffle=True)\n",
    "test_loader = DataLoader(test_dataset, batch_size=batch_size, shuffle=False)\n"
   ]
  },
  {
   "cell_type": "markdown",
   "metadata": {},
   "source": [
    "# 检查"
   ]
  },
  {
   "cell_type": "code",
   "execution_count": 237,
   "metadata": {},
   "outputs": [],
   "source": [
    "y_min = y.min()\n",
    "y_max = y.max()\n",
    "\n"
   ]
  },
  {
   "cell_type": "code",
   "execution_count": 238,
   "metadata": {},
   "outputs": [
    {
     "data": {
      "text/plain": [
       "(0,\n",
       " 9,\n",
       " torch.Size([1519, 4, 42]),\n",
       " torch.Size([1519]),\n",
       " torch.Size([380, 4, 42]),\n",
       " torch.Size([380]),\n",
       " tensor(False),\n",
       " tensor(False))"
      ]
     },
     "execution_count": 238,
     "metadata": {},
     "output_type": "execute_result"
    }
   ],
   "source": [
    "X_train_shape = X_train.shape\n",
    "y_train_shape = y_train.shape\n",
    "X_test_shape = X_test.shape\n",
    "y_test_shape = y_test.shape\n",
    "\n",
    "# 3. 检查是否有 NaN 或 Inf 的值\n",
    "# 检查X中是否有NaN或Inf值\n",
    "has_nan_X = torch.isnan(X_train).any() or torch.isnan(X_test).any()\n",
    "has_inf_X = torch.isinf(X_train).any() or torch.isinf(X_test).any()\n",
    "\n",
    "y_min, y_max, X_train_shape, y_train_shape, X_test_shape, y_test_shape, has_nan_X, has_inf_X"
   ]
  },
  {
   "cell_type": "code",
   "execution_count": 239,
   "metadata": {},
   "outputs": [
    {
     "name": "stdout",
     "output_type": "stream",
     "text": [
      "Min label: 0\n",
      "Max label: 9\n"
     ]
    }
   ],
   "source": [
    "print(\"Min label:\", y.min())\n",
    "print(\"Max label:\", y.max())\n"
   ]
  },
  {
   "cell_type": "code",
   "execution_count": 240,
   "metadata": {},
   "outputs": [
    {
     "name": "stdout",
     "output_type": "stream",
     "text": [
      "X_train shape: torch.Size([1519, 4, 42])\n",
      "y_train shape: torch.Size([1519])\n",
      "X_test shape: torch.Size([380, 4, 42])\n",
      "y_test shape: torch.Size([380])\n"
     ]
    }
   ],
   "source": [
    "print(\"X_train shape:\", X_train.shape)\n",
    "print(\"y_train shape:\", y_train.shape)\n",
    "print(\"X_test shape:\", X_test.shape)\n",
    "print(\"y_test shape:\", y_test.shape)\n"
   ]
  },
  {
   "cell_type": "code",
   "execution_count": 241,
   "metadata": {},
   "outputs": [
    {
     "name": "stdout",
     "output_type": "stream",
     "text": [
      "Has NaN in X_train: False\n",
      "Has Inf in X_train: False\n",
      "Has NaN in X_test: False\n",
      "Has Inf in X_test: False\n"
     ]
    }
   ],
   "source": [
    "print(\"Has NaN in X_train:\", torch.isnan(X_train).any().item())\n",
    "print(\"Has Inf in X_train:\", torch.isinf(X_train).any().item())\n",
    "print(\"Has NaN in X_test:\", torch.isnan(X_test).any().item())\n",
    "print(\"Has Inf in X_test:\", torch.isinf(X_test).any().item())\n"
   ]
  },
  {
   "cell_type": "markdown",
   "metadata": {},
   "source": [
    "# model"
   ]
  },
  {
   "cell_type": "code",
   "execution_count": 242,
   "metadata": {},
   "outputs": [],
   "source": [
    "\n",
    "device = torch.device('cuda' if torch.cuda.is_available() else 'cpu')\n"
   ]
  },
  {
   "cell_type": "code",
   "execution_count": 218,
   "metadata": {},
   "outputs": [],
   "source": [
    "class SelfAttentionModel(nn.Module):\n",
    "    def __init__(self, input_size, hidden_size, output_size, nhead=8):\n",
    "        super(SelfAttentionModel, self).__init__()\n",
    "        self.hidden_size = hidden_size\n",
    "\n",
    "        self.embedding = nn.Linear(input_size, hidden_size)\n",
    "        self.self_attention = nn.MultiheadAttention(embed_dim=hidden_size, num_heads=nhead)\n",
    "        self.fc = nn.Linear(hidden_size, output_size)\n",
    "\n",
    "    def forward(self, x):\n",
    "        x = self.embedding(x)\n",
    "        x = x.permute(1, 0, 2)\n",
    "        out, _ = self.self_attention(x, x, x)\n",
    "        out = out.permute(1, 0, 2)\n",
    "        out = self.fc(out[:, -1, :])\n",
    "        return out\n"
   ]
  },
  {
   "cell_type": "markdown",
   "metadata": {},
   "source": [
    "# 从零实现"
   ]
  },
  {
   "cell_type": "code",
   "execution_count": 243,
   "metadata": {},
   "outputs": [],
   "source": [
    "class MultiheadAttention(nn.Module):\n",
    "    def __init__(self, embed_dim, num_heads, dropout_prob=0.5):\n",
    "        super(MultiheadAttention, self).__init__()\n",
    "        assert embed_dim % num_heads == 0\n",
    "        self.num_heads = num_heads  # 多头注意力的头数\n",
    "        self.head_dim = embed_dim // num_heads  # 每个头的维度\n",
    "        self.scale = self.head_dim ** 0.5  # 缩放因子\n",
    "\n",
    "        self.query = nn.Linear(embed_dim, embed_dim)  # 查询矩阵变换 Q\n",
    "        self.key = nn.Linear(embed_dim, embed_dim)  # 键矩阵变换 K\n",
    "        self.value = nn.Linear(embed_dim, embed_dim)  # 值矩阵变换 V\n",
    "        self.fc_out = nn.Linear(embed_dim, embed_dim)  # 输出全连接层 FC\n",
    "\n",
    "        self.dropout = nn.Dropout(dropout_prob)  # Dropout层\n",
    "        \n",
    "        self._initialize_weights()  # 权重初始化\n",
    "\n",
    "    def _initialize_weights(self):\n",
    "        # 初始化权重\n",
    "        for module in self.modules():\n",
    "            if isinstance(module, nn.Linear):\n",
    "                nn.init.kaiming_uniform_(module.weight, nonlinearity='relu')\n",
    "                if module.bias is not None:\n",
    "                    nn.init.constant_(module.bias, 0)\n",
    "\n",
    "    def forward(self, query, key, value):\n",
    "        # 前向传播\n",
    "        batch_size = query.size(0)\n",
    "        \n",
    "        query = self.query(query).view(batch_size, -1, self.num_heads, self.head_dim).permute(0, 2, 1, 3)\n",
    "        key = self.key(key).view(batch_size, -1, self.num_heads, self.head_dim).permute(0, 2, 1, 3)\n",
    "        value = self.value(value).view(batch_size, -1, self.num_heads, self.head_dim).permute(0, 2, 1, 3)\n",
    "\n",
    "        # Scaled Dot-Product Attention\n",
    "        attention = torch.matmul(query, key.permute(0, 1, 3, 2)) / self.scale\n",
    "        attention = F.softmax(attention, dim=-1)\n",
    "        output = torch.matmul(self.dropout(attention), value)\n",
    "        \n",
    "        # 重组并通过输出全连接层\n",
    "        output = output.permute(0, 2, 1, 3).contiguous().view(batch_size, -1, self.num_heads * self.head_dim)\n",
    "        output = self.fc_out(output)\n",
    "        \n",
    "        # 残差连接\n",
    "        return output + query.permute(0, 2, 1, 3).contiguous().view(batch_size, -1, self.num_heads * self.head_dim)\n"
   ]
  },
  {
   "cell_type": "code",
   "execution_count": 244,
   "metadata": {},
   "outputs": [],
   "source": [
    "class SelfAttentionModel(nn.Module):\n",
    "    def __init__(self, input_size, hidden_size, output_size, nhead=8, dropout_prob=0.5):\n",
    "        super(SelfAttentionModel, self).__init__()\n",
    "        self.hidden_size = hidden_size  # 隐藏层大小 hidden_size\n",
    "\n",
    "        self.embedding = nn.Linear(input_size, hidden_size)  # 嵌入层 embedding\n",
    "        self.self_attention = MultiheadAttention(embed_dim=hidden_size, num_heads=nhead, dropout_prob=dropout_prob)  # 多头自注意力层 MultiheadAttention\n",
    "        self.layer_norm1 = nn.LayerNorm(hidden_size)  # 层归一化 layer norm\n",
    "        self.fc1 = nn.Linear(hidden_size, 4 * hidden_size)  # Feed Forward 1\n",
    "        self.fc2 = nn.Linear(4 * hidden_size, hidden_size)  # Feed Forward 2\n",
    "        self.relu = nn.ReLU()  # 激活函数\n",
    "        self.layer_norm2 = nn.LayerNorm(hidden_size)  # 层归一化 layer norm\n",
    "        self.fc_out = nn.Linear(hidden_size, output_size)  # 输出全连接层 FC\n",
    "        self.dropout1 = nn.Dropout(dropout_prob)  # Dropout层\n",
    "        self.dropout2 = nn.Dropout(dropout_prob)  # Dropout层\n",
    "        \n",
    "        self._initialize_weights()  # 权重初始化\n",
    "\n",
    "    def _initialize_weights(self):\n",
    "        # 初始化权重\n",
    "        for module in self.modules():\n",
    "            if isinstance(module, nn.Linear):\n",
    "                nn.init.kaiming_uniform_(module.weight, nonlinearity='relu')\n",
    "                if module.bias is not None:\n",
    "                    nn.init.constant_(module.bias, 0)\n",
    "\n",
    "    def forward(self, x):\n",
    "        # 前向传播\n",
    "        x = self.embedding(x)  # 通过嵌入层\n",
    "        #x = x.permute(1, 0, 2)  # 交换维度\n",
    "        \n",
    "        # 多头自注意力层\n",
    "        att_output = self.self_attention(x, x, x)\n",
    "        out = self.layer_norm1(x + self.dropout1(att_output))  # 加上残差连接并进行层归一化\n",
    "        \n",
    "        # Feed Forward部分\n",
    "        ff_input = out[:, -1, :]\n",
    "        ff_output = self.fc2(self.relu(self.fc1(ff_input)))\n",
    "        out = self.layer_norm2(out + self.dropout2(ff_output.unsqueeze(1)))  # 加上残差连接并进行层归一化\n",
    "        \n",
    "        # 输出全连接层\n",
    "        out = self.fc_out(out[:, -1, :])\n",
    "        return out\n"
   ]
  },
  {
   "cell_type": "code",
   "execution_count": 245,
   "metadata": {},
   "outputs": [],
   "source": [
    "input_size =  X_train.shape[2]\n",
    "hidden_size = 256\n",
    "output_size = len(set(y)) \n",
    "model = SelfAttentionModel(input_size, hidden_size, output_size).to(device)\n",
    "\n"
   ]
  },
  {
   "cell_type": "code",
   "execution_count": 246,
   "metadata": {},
   "outputs": [
    {
     "name": "stdout",
     "output_type": "stream",
     "text": [
      "X_train_tensor shape: torch.Size([1519, 4, 42])\n",
      "y_train_tensor shape: torch.Size([1519])\n",
      "Model structure: SelfAttentionModel(\n",
      "  (embedding): Linear(in_features=42, out_features=256, bias=True)\n",
      "  (self_attention): MultiheadAttention(\n",
      "    (query): Linear(in_features=256, out_features=256, bias=True)\n",
      "    (key): Linear(in_features=256, out_features=256, bias=True)\n",
      "    (value): Linear(in_features=256, out_features=256, bias=True)\n",
      "    (fc_out): Linear(in_features=256, out_features=256, bias=True)\n",
      "    (dropout): Dropout(p=0.5, inplace=False)\n",
      "  )\n",
      "  (layer_norm1): LayerNorm((256,), eps=1e-05, elementwise_affine=True)\n",
      "  (fc1): Linear(in_features=256, out_features=1024, bias=True)\n",
      "  (fc2): Linear(in_features=1024, out_features=256, bias=True)\n",
      "  (relu): ReLU()\n",
      "  (layer_norm2): LayerNorm((256,), eps=1e-05, elementwise_affine=True)\n",
      "  (fc_out): Linear(in_features=256, out_features=10, bias=True)\n",
      "  (dropout1): Dropout(p=0.5, inplace=False)\n",
      "  (dropout2): Dropout(p=0.5, inplace=False)\n",
      ")\n"
     ]
    }
   ],
   "source": [
    "# 打印数据形状和模型结构以检查代码\n",
    "print(\"X_train_tensor shape:\", X_train_tensor.shape)\n",
    "print(\"y_train_tensor shape:\", y_train_tensor.shape)\n",
    "print(\"Model structure:\", model)"
   ]
  },
  {
   "cell_type": "markdown",
   "metadata": {},
   "source": [
    "# train"
   ]
  },
  {
   "cell_type": "code",
   "execution_count": 247,
   "metadata": {},
   "outputs": [],
   "source": [
    "def calculate_mean_std(train_loader):\n",
    "    all_data = []\n",
    "    for batch_X, _ in train_loader:\n",
    "        all_data.append(batch_X)\n",
    "    all_data = torch.cat(all_data, dim=0)\n",
    "    mean = torch.mean(all_data, dim=0)\n",
    "    std = torch.std(all_data, dim=0)\n",
    "    return mean, std\n",
    "\n",
    "def normalize_data(data, mean, std):\n",
    "    return (data - mean) / (std + 1e-7)\n",
    "\n",
    "# 这里假设 train_loader 是一个 DataLoader 实例用于加载训练数据\n",
    "mean, std = calculate_mean_std(train_loader)\n"
   ]
  },
  {
   "cell_type": "code",
   "execution_count": 248,
   "metadata": {},
   "outputs": [
    {
     "name": "stdout",
     "output_type": "stream",
     "text": [
      "Epoch: 1/300, Train Loss: 2.8777, Validation Loss: 2.0643, Accuracy: 23.42%\n",
      "Epoch: 2/300, Train Loss: 2.2590, Validation Loss: 1.6816, Accuracy: 46.58%\n",
      "Epoch: 3/300, Train Loss: 1.6836, Validation Loss: 1.7457, Accuracy: 54.21%\n",
      "Epoch: 4/300, Train Loss: 1.3417, Validation Loss: 1.3041, Accuracy: 61.32%\n",
      "Epoch: 5/300, Train Loss: 1.1112, Validation Loss: 1.3104, Accuracy: 65.00%\n",
      "Epoch: 6/300, Train Loss: 0.9843, Validation Loss: 1.2134, Accuracy: 66.05%\n",
      "Epoch: 7/300, Train Loss: 0.8747, Validation Loss: 0.9799, Accuracy: 67.63%\n",
      "Epoch: 8/300, Train Loss: 0.8013, Validation Loss: 1.0061, Accuracy: 70.26%\n",
      "Epoch: 9/300, Train Loss: 0.7256, Validation Loss: 1.0462, Accuracy: 71.58%\n",
      "Epoch: 10/300, Train Loss: 0.6836, Validation Loss: 0.8198, Accuracy: 75.53%\n",
      "Epoch: 11/300, Train Loss: 0.6228, Validation Loss: 0.7317, Accuracy: 78.68%\n",
      "Epoch: 12/300, Train Loss: 0.5804, Validation Loss: 0.7668, Accuracy: 75.79%\n",
      "Epoch: 13/300, Train Loss: 0.5258, Validation Loss: 0.6405, Accuracy: 82.89%\n",
      "Epoch: 14/300, Train Loss: 0.4930, Validation Loss: 0.6382, Accuracy: 81.32%\n",
      "Epoch: 15/300, Train Loss: 0.4683, Validation Loss: 0.5800, Accuracy: 83.16%\n",
      "Epoch: 16/300, Train Loss: 0.4473, Validation Loss: 0.7020, Accuracy: 82.37%\n",
      "Epoch: 17/300, Train Loss: 0.4359, Validation Loss: 0.6190, Accuracy: 82.37%\n",
      "Epoch: 18/300, Train Loss: 0.4164, Validation Loss: 0.5951, Accuracy: 86.05%\n",
      "Epoch: 19/300, Train Loss: 0.4016, Validation Loss: 0.5583, Accuracy: 85.53%\n",
      "Epoch: 20/300, Train Loss: 0.3555, Validation Loss: 0.5252, Accuracy: 87.89%\n",
      "Epoch: 21/300, Train Loss: 0.3750, Validation Loss: 0.6005, Accuracy: 84.21%\n",
      "Epoch: 22/300, Train Loss: 0.3437, Validation Loss: 0.5134, Accuracy: 87.63%\n",
      "Epoch: 23/300, Train Loss: 0.3428, Validation Loss: 0.5338, Accuracy: 87.11%\n",
      "Epoch: 24/300, Train Loss: 0.3394, Validation Loss: 0.5003, Accuracy: 87.63%\n",
      "Epoch: 25/300, Train Loss: 0.3229, Validation Loss: 0.4618, Accuracy: 89.47%\n",
      "Epoch: 26/300, Train Loss: 0.3328, Validation Loss: 0.4822, Accuracy: 87.11%\n",
      "Epoch: 27/300, Train Loss: 0.3084, Validation Loss: 0.4600, Accuracy: 88.16%\n",
      "Epoch: 28/300, Train Loss: 0.2974, Validation Loss: 0.4706, Accuracy: 88.95%\n",
      "Epoch: 29/300, Train Loss: 0.2845, Validation Loss: 0.4497, Accuracy: 89.21%\n",
      "Epoch: 30/300, Train Loss: 0.2715, Validation Loss: 0.3978, Accuracy: 89.74%\n",
      "Epoch: 31/300, Train Loss: 0.2543, Validation Loss: 0.5083, Accuracy: 87.63%\n",
      "Epoch: 32/300, Train Loss: 0.2687, Validation Loss: 0.4133, Accuracy: 91.58%\n",
      "Epoch: 33/300, Train Loss: 0.2328, Validation Loss: 0.4543, Accuracy: 89.21%\n",
      "Epoch: 34/300, Train Loss: 0.2523, Validation Loss: 0.4193, Accuracy: 92.11%\n",
      "Epoch: 35/300, Train Loss: 0.2218, Validation Loss: 0.4285, Accuracy: 89.47%\n",
      "Epoch: 36/300, Train Loss: 0.2349, Validation Loss: 0.4514, Accuracy: 88.16%\n",
      "Epoch: 37/300, Train Loss: 0.2263, Validation Loss: 0.4336, Accuracy: 92.11%\n",
      "Epoch: 38/300, Train Loss: 0.2081, Validation Loss: 0.4459, Accuracy: 88.68%\n",
      "Epoch: 39/300, Train Loss: 0.2042, Validation Loss: 0.4179, Accuracy: 89.21%\n",
      "Epoch: 40/300, Train Loss: 0.2194, Validation Loss: 0.4112, Accuracy: 91.05%\n",
      "Epoch: 41/300, Train Loss: 0.2334, Validation Loss: 0.3918, Accuracy: 91.05%\n",
      "Epoch: 42/300, Train Loss: 0.1963, Validation Loss: 0.3835, Accuracy: 92.37%\n",
      "Epoch: 43/300, Train Loss: 0.2210, Validation Loss: 0.3855, Accuracy: 91.84%\n",
      "Epoch: 44/300, Train Loss: 0.2230, Validation Loss: 0.4079, Accuracy: 91.32%\n",
      "Epoch: 45/300, Train Loss: 0.1995, Validation Loss: 0.3788, Accuracy: 90.26%\n",
      "Epoch: 46/300, Train Loss: 0.2144, Validation Loss: 0.3915, Accuracy: 91.05%\n",
      "Epoch: 47/300, Train Loss: 0.1703, Validation Loss: 0.3811, Accuracy: 90.79%\n",
      "Epoch: 48/300, Train Loss: 0.1816, Validation Loss: 0.4000, Accuracy: 90.79%\n",
      "Epoch: 49/300, Train Loss: 0.2004, Validation Loss: 0.4077, Accuracy: 90.79%\n",
      "Epoch: 50/300, Train Loss: 0.2053, Validation Loss: 0.3931, Accuracy: 91.05%\n",
      "Epoch: 51/300, Train Loss: 0.1841, Validation Loss: 0.3624, Accuracy: 91.05%\n",
      "Epoch: 52/300, Train Loss: 0.1707, Validation Loss: 0.3143, Accuracy: 92.63%\n",
      "Epoch: 53/300, Train Loss: 0.1512, Validation Loss: 0.3267, Accuracy: 92.37%\n",
      "Epoch: 54/300, Train Loss: 0.1726, Validation Loss: 0.3225, Accuracy: 92.11%\n",
      "Epoch: 55/300, Train Loss: 0.1509, Validation Loss: 0.3197, Accuracy: 91.32%\n",
      "Epoch: 56/300, Train Loss: 0.1558, Validation Loss: 0.3410, Accuracy: 92.89%\n",
      "Epoch: 57/300, Train Loss: 0.1426, Validation Loss: 0.3508, Accuracy: 92.37%\n",
      "Epoch: 58/300, Train Loss: 0.1679, Validation Loss: 0.3781, Accuracy: 91.58%\n",
      "Epoch: 59/300, Train Loss: 0.1883, Validation Loss: 0.3476, Accuracy: 92.63%\n",
      "Epoch: 60/300, Train Loss: 0.2044, Validation Loss: 0.3959, Accuracy: 90.26%\n",
      "Epoch: 61/300, Train Loss: 0.1669, Validation Loss: 0.4052, Accuracy: 89.21%\n",
      "Epoch: 62/300, Train Loss: 0.1661, Validation Loss: 0.3002, Accuracy: 93.42%\n",
      "Epoch: 63/300, Train Loss: 0.1402, Validation Loss: 0.3195, Accuracy: 92.37%\n",
      "Epoch: 64/300, Train Loss: 0.1293, Validation Loss: 0.3502, Accuracy: 92.37%\n",
      "Epoch: 65/300, Train Loss: 0.1237, Validation Loss: 0.3715, Accuracy: 91.05%\n",
      "Epoch: 66/300, Train Loss: 0.1239, Validation Loss: 0.3561, Accuracy: 91.58%\n",
      "Epoch: 67/300, Train Loss: 0.1369, Validation Loss: 0.2932, Accuracy: 93.42%\n",
      "Epoch: 68/300, Train Loss: 0.1129, Validation Loss: 0.2886, Accuracy: 93.95%\n",
      "Epoch: 69/300, Train Loss: 0.1455, Validation Loss: 0.3500, Accuracy: 91.32%\n",
      "Epoch: 70/300, Train Loss: 0.1510, Validation Loss: 0.3316, Accuracy: 91.84%\n",
      "Epoch: 71/300, Train Loss: 0.1277, Validation Loss: 0.3021, Accuracy: 93.42%\n",
      "Epoch: 72/300, Train Loss: 0.1132, Validation Loss: 0.2970, Accuracy: 94.21%\n",
      "Epoch: 73/300, Train Loss: 0.1116, Validation Loss: 0.3375, Accuracy: 91.05%\n",
      "Epoch: 74/300, Train Loss: 0.1282, Validation Loss: 0.3242, Accuracy: 92.89%\n",
      "Epoch: 75/300, Train Loss: 0.1253, Validation Loss: 0.2806, Accuracy: 94.21%\n",
      "Epoch: 76/300, Train Loss: 0.1230, Validation Loss: 0.3167, Accuracy: 94.47%\n",
      "Epoch: 77/300, Train Loss: 0.1125, Validation Loss: 0.3853, Accuracy: 92.37%\n",
      "Epoch: 78/300, Train Loss: 0.1171, Validation Loss: 0.3083, Accuracy: 92.89%\n",
      "Epoch: 79/300, Train Loss: 0.1085, Validation Loss: 0.3219, Accuracy: 93.68%\n",
      "Epoch: 80/300, Train Loss: 0.0978, Validation Loss: 0.3007, Accuracy: 94.47%\n",
      "Epoch: 81/300, Train Loss: 0.0976, Validation Loss: 0.2970, Accuracy: 94.47%\n",
      "Epoch: 82/300, Train Loss: 0.1011, Validation Loss: 0.2904, Accuracy: 93.95%\n",
      "Epoch: 83/300, Train Loss: 0.1021, Validation Loss: 0.3175, Accuracy: 94.21%\n",
      "Epoch: 84/300, Train Loss: 0.1068, Validation Loss: 0.3185, Accuracy: 92.89%\n",
      "Epoch: 85/300, Train Loss: 0.1124, Validation Loss: 0.3063, Accuracy: 93.68%\n",
      "Epoch: 86/300, Train Loss: 0.0956, Validation Loss: 0.3200, Accuracy: 92.89%\n",
      "Epoch 00086: reducing learning rate of group 0 to 5.0000e-04.\n",
      "Epoch: 87/300, Train Loss: 0.0854, Validation Loss: 0.2895, Accuracy: 93.95%\n",
      "Epoch: 88/300, Train Loss: 0.0825, Validation Loss: 0.2681, Accuracy: 94.21%\n",
      "Epoch: 89/300, Train Loss: 0.0769, Validation Loss: 0.2890, Accuracy: 94.47%\n",
      "Epoch: 90/300, Train Loss: 0.0806, Validation Loss: 0.2980, Accuracy: 94.47%\n",
      "Epoch: 91/300, Train Loss: 0.0870, Validation Loss: 0.3225, Accuracy: 92.37%\n",
      "Epoch: 92/300, Train Loss: 0.0794, Validation Loss: 0.3258, Accuracy: 94.74%\n",
      "Epoch: 93/300, Train Loss: 0.0816, Validation Loss: 0.3012, Accuracy: 93.95%\n",
      "Epoch: 94/300, Train Loss: 0.0740, Validation Loss: 0.3085, Accuracy: 93.42%\n",
      "Epoch: 95/300, Train Loss: 0.0701, Validation Loss: 0.3405, Accuracy: 92.63%\n",
      "Epoch: 96/300, Train Loss: 0.0861, Validation Loss: 0.2858, Accuracy: 94.74%\n",
      "Epoch: 97/300, Train Loss: 0.0802, Validation Loss: 0.2666, Accuracy: 95.00%\n",
      "Epoch: 98/300, Train Loss: 0.0676, Validation Loss: 0.2939, Accuracy: 94.74%\n",
      "Epoch: 99/300, Train Loss: 0.0741, Validation Loss: 0.3000, Accuracy: 93.68%\n",
      "Epoch: 100/300, Train Loss: 0.0736, Validation Loss: 0.3034, Accuracy: 93.95%\n",
      "Epoch: 101/300, Train Loss: 0.0687, Validation Loss: 0.3000, Accuracy: 94.47%\n",
      "Epoch: 102/300, Train Loss: 0.0630, Validation Loss: 0.2828, Accuracy: 94.47%\n",
      "Epoch: 103/300, Train Loss: 0.0624, Validation Loss: 0.2915, Accuracy: 93.95%\n",
      "Epoch: 104/300, Train Loss: 0.0708, Validation Loss: 0.2665, Accuracy: 95.00%\n",
      "Epoch: 105/300, Train Loss: 0.0771, Validation Loss: 0.3069, Accuracy: 93.95%\n",
      "Epoch: 106/300, Train Loss: 0.0720, Validation Loss: 0.3175, Accuracy: 94.47%\n",
      "Epoch: 107/300, Train Loss: 0.0642, Validation Loss: 0.2797, Accuracy: 94.47%\n",
      "Epoch: 108/300, Train Loss: 0.0460, Validation Loss: 0.2850, Accuracy: 95.00%\n",
      "Epoch: 109/300, Train Loss: 0.0616, Validation Loss: 0.2887, Accuracy: 95.00%\n",
      "Epoch: 110/300, Train Loss: 0.0552, Validation Loss: 0.2680, Accuracy: 95.26%\n",
      "Epoch: 111/300, Train Loss: 0.0661, Validation Loss: 0.2607, Accuracy: 94.74%\n",
      "Epoch: 112/300, Train Loss: 0.0519, Validation Loss: 0.2761, Accuracy: 94.47%\n",
      "Epoch: 113/300, Train Loss: 0.0635, Validation Loss: 0.2936, Accuracy: 94.21%\n",
      "Epoch: 114/300, Train Loss: 0.0538, Validation Loss: 0.2869, Accuracy: 94.74%\n",
      "Epoch: 115/300, Train Loss: 0.0665, Validation Loss: 0.2610, Accuracy: 94.74%\n",
      "Epoch: 116/300, Train Loss: 0.0591, Validation Loss: 0.2997, Accuracy: 93.68%\n",
      "Epoch: 117/300, Train Loss: 0.0704, Validation Loss: 0.2922, Accuracy: 94.21%\n",
      "Epoch: 118/300, Train Loss: 0.0554, Validation Loss: 0.2655, Accuracy: 94.74%\n",
      "Epoch: 119/300, Train Loss: 0.0612, Validation Loss: 0.2885, Accuracy: 95.00%\n",
      "Epoch: 120/300, Train Loss: 0.0629, Validation Loss: 0.2755, Accuracy: 95.53%\n",
      "Epoch: 121/300, Train Loss: 0.0602, Validation Loss: 0.3274, Accuracy: 93.68%\n",
      "Epoch: 122/300, Train Loss: 0.0671, Validation Loss: 0.2725, Accuracy: 94.47%\n",
      "Epoch 00122: reducing learning rate of group 0 to 2.5000e-04.\n",
      "Epoch: 123/300, Train Loss: 0.0473, Validation Loss: 0.2705, Accuracy: 94.74%\n",
      "Epoch: 124/300, Train Loss: 0.0566, Validation Loss: 0.2832, Accuracy: 94.74%\n",
      "Epoch: 125/300, Train Loss: 0.0583, Validation Loss: 0.2841, Accuracy: 94.21%\n",
      "Epoch: 126/300, Train Loss: 0.0529, Validation Loss: 0.2706, Accuracy: 95.26%\n",
      "Epoch: 127/300, Train Loss: 0.0583, Validation Loss: 0.2653, Accuracy: 95.53%\n",
      "Epoch: 128/300, Train Loss: 0.0478, Validation Loss: 0.2617, Accuracy: 95.53%\n",
      "Epoch: 129/300, Train Loss: 0.0383, Validation Loss: 0.2721, Accuracy: 95.00%\n",
      "Epoch: 130/300, Train Loss: 0.0413, Validation Loss: 0.2513, Accuracy: 95.53%\n",
      "Epoch: 131/300, Train Loss: 0.0478, Validation Loss: 0.2890, Accuracy: 95.26%\n",
      "Epoch: 132/300, Train Loss: 0.0394, Validation Loss: 0.2667, Accuracy: 95.26%\n",
      "Epoch: 133/300, Train Loss: 0.0467, Validation Loss: 0.2629, Accuracy: 95.53%\n",
      "Epoch: 134/300, Train Loss: 0.0351, Validation Loss: 0.2712, Accuracy: 94.74%\n",
      "Epoch: 135/300, Train Loss: 0.0380, Validation Loss: 0.2974, Accuracy: 94.21%\n",
      "Epoch: 136/300, Train Loss: 0.0342, Validation Loss: 0.2787, Accuracy: 94.21%\n",
      "Epoch: 137/300, Train Loss: 0.0523, Validation Loss: 0.2910, Accuracy: 94.21%\n",
      "Epoch: 138/300, Train Loss: 0.0507, Validation Loss: 0.2814, Accuracy: 95.00%\n",
      "Epoch: 139/300, Train Loss: 0.0373, Validation Loss: 0.3017, Accuracy: 94.21%\n",
      "Epoch: 140/300, Train Loss: 0.0431, Validation Loss: 0.2940, Accuracy: 95.26%\n",
      "Epoch: 141/300, Train Loss: 0.0388, Validation Loss: 0.2907, Accuracy: 95.26%\n",
      "Epoch 00141: reducing learning rate of group 0 to 1.2500e-04.\n",
      "Epoch: 142/300, Train Loss: 0.0462, Validation Loss: 0.2870, Accuracy: 95.26%\n",
      "Epoch: 143/300, Train Loss: 0.0442, Validation Loss: 0.2892, Accuracy: 95.00%\n",
      "Epoch: 144/300, Train Loss: 0.0387, Validation Loss: 0.2816, Accuracy: 94.47%\n",
      "Epoch: 145/300, Train Loss: 0.0357, Validation Loss: 0.2934, Accuracy: 95.26%\n",
      "Epoch: 146/300, Train Loss: 0.0340, Validation Loss: 0.2847, Accuracy: 94.74%\n",
      "Epoch: 147/300, Train Loss: 0.0408, Validation Loss: 0.2782, Accuracy: 95.00%\n",
      "Epoch: 148/300, Train Loss: 0.0303, Validation Loss: 0.2757, Accuracy: 95.26%\n",
      "Epoch: 149/300, Train Loss: 0.0458, Validation Loss: 0.2796, Accuracy: 95.00%\n",
      "Epoch: 150/300, Train Loss: 0.0305, Validation Loss: 0.2816, Accuracy: 94.74%\n",
      "Epoch: 151/300, Train Loss: 0.0404, Validation Loss: 0.2762, Accuracy: 95.00%\n",
      "Epoch: 152/300, Train Loss: 0.0365, Validation Loss: 0.2935, Accuracy: 94.47%\n",
      "Epoch 00152: reducing learning rate of group 0 to 6.2500e-05.\n",
      "Epoch: 153/300, Train Loss: 0.0409, Validation Loss: 0.2862, Accuracy: 95.26%\n",
      "Epoch: 154/300, Train Loss: 0.0346, Validation Loss: 0.2776, Accuracy: 94.74%\n",
      "Epoch: 155/300, Train Loss: 0.0415, Validation Loss: 0.2755, Accuracy: 94.74%\n",
      "Epoch: 156/300, Train Loss: 0.0311, Validation Loss: 0.2788, Accuracy: 94.74%\n",
      "Epoch: 157/300, Train Loss: 0.0317, Validation Loss: 0.2775, Accuracy: 94.74%\n",
      "Epoch: 158/300, Train Loss: 0.0293, Validation Loss: 0.2813, Accuracy: 94.74%\n",
      "Epoch: 159/300, Train Loss: 0.0332, Validation Loss: 0.2824, Accuracy: 95.00%\n",
      "Epoch: 160/300, Train Loss: 0.0359, Validation Loss: 0.2836, Accuracy: 95.00%\n",
      "Epoch: 161/300, Train Loss: 0.0334, Validation Loss: 0.2869, Accuracy: 95.00%\n",
      "Epoch: 162/300, Train Loss: 0.0374, Validation Loss: 0.2876, Accuracy: 94.74%\n",
      "Epoch: 163/300, Train Loss: 0.0360, Validation Loss: 0.2826, Accuracy: 95.00%\n",
      "Epoch 00163: reducing learning rate of group 0 to 3.1250e-05.\n",
      "Epoch: 164/300, Train Loss: 0.0351, Validation Loss: 0.2835, Accuracy: 94.74%\n",
      "Epoch: 165/300, Train Loss: 0.0309, Validation Loss: 0.2836, Accuracy: 94.74%\n",
      "Epoch: 166/300, Train Loss: 0.0301, Validation Loss: 0.2829, Accuracy: 94.74%\n",
      "Epoch: 167/300, Train Loss: 0.0284, Validation Loss: 0.2814, Accuracy: 94.74%\n",
      "Epoch: 168/300, Train Loss: 0.0286, Validation Loss: 0.2789, Accuracy: 94.74%\n",
      "Epoch: 169/300, Train Loss: 0.0366, Validation Loss: 0.2779, Accuracy: 95.00%\n",
      "Epoch: 170/300, Train Loss: 0.0341, Validation Loss: 0.2770, Accuracy: 95.00%\n",
      "Epoch: 171/300, Train Loss: 0.0357, Validation Loss: 0.2743, Accuracy: 94.74%\n",
      "Epoch: 172/300, Train Loss: 0.0329, Validation Loss: 0.2731, Accuracy: 94.47%\n",
      "Epoch: 173/300, Train Loss: 0.0389, Validation Loss: 0.2733, Accuracy: 94.47%\n",
      "Epoch: 174/300, Train Loss: 0.0349, Validation Loss: 0.2752, Accuracy: 94.47%\n",
      "Epoch 00174: reducing learning rate of group 0 to 1.5625e-05.\n",
      "Epoch: 175/300, Train Loss: 0.0279, Validation Loss: 0.2763, Accuracy: 94.47%\n",
      "Epoch: 176/300, Train Loss: 0.0297, Validation Loss: 0.2769, Accuracy: 94.47%\n",
      "Epoch: 177/300, Train Loss: 0.0294, Validation Loss: 0.2771, Accuracy: 94.47%\n",
      "Epoch: 178/300, Train Loss: 0.0340, Validation Loss: 0.2775, Accuracy: 94.47%\n",
      "Epoch: 179/300, Train Loss: 0.0287, Validation Loss: 0.2768, Accuracy: 94.47%\n",
      "Epoch: 180/300, Train Loss: 0.0341, Validation Loss: 0.2747, Accuracy: 94.47%\n",
      "Epoch: 181/300, Train Loss: 0.0341, Validation Loss: 0.2750, Accuracy: 94.47%\n",
      "Epoch: 182/300, Train Loss: 0.0343, Validation Loss: 0.2766, Accuracy: 94.47%\n",
      "Epoch: 183/300, Train Loss: 0.0322, Validation Loss: 0.2767, Accuracy: 94.47%\n",
      "Epoch: 184/300, Train Loss: 0.0266, Validation Loss: 0.2764, Accuracy: 94.47%\n",
      "Epoch: 185/300, Train Loss: 0.0298, Validation Loss: 0.2760, Accuracy: 94.47%\n",
      "Epoch 00185: reducing learning rate of group 0 to 7.8125e-06.\n",
      "Epoch: 186/300, Train Loss: 0.0308, Validation Loss: 0.2763, Accuracy: 94.47%\n",
      "Epoch: 187/300, Train Loss: 0.0299, Validation Loss: 0.2760, Accuracy: 94.47%\n",
      "Epoch: 188/300, Train Loss: 0.0273, Validation Loss: 0.2755, Accuracy: 94.47%\n",
      "Epoch: 189/300, Train Loss: 0.0331, Validation Loss: 0.2750, Accuracy: 94.47%\n",
      "Epoch: 190/300, Train Loss: 0.0370, Validation Loss: 0.2742, Accuracy: 94.47%\n",
      "Epoch: 191/300, Train Loss: 0.0317, Validation Loss: 0.2744, Accuracy: 94.47%\n",
      "Epoch: 192/300, Train Loss: 0.0298, Validation Loss: 0.2747, Accuracy: 94.74%\n",
      "Epoch: 193/300, Train Loss: 0.0267, Validation Loss: 0.2746, Accuracy: 94.47%\n",
      "Epoch: 194/300, Train Loss: 0.0343, Validation Loss: 0.2752, Accuracy: 94.47%\n",
      "Epoch: 195/300, Train Loss: 0.0292, Validation Loss: 0.2750, Accuracy: 94.47%\n",
      "Epoch: 196/300, Train Loss: 0.0342, Validation Loss: 0.2739, Accuracy: 94.47%\n",
      "Epoch 00196: reducing learning rate of group 0 to 3.9063e-06.\n",
      "Epoch: 197/300, Train Loss: 0.0356, Validation Loss: 0.2738, Accuracy: 94.47%\n",
      "Epoch: 198/300, Train Loss: 0.0345, Validation Loss: 0.2741, Accuracy: 94.47%\n",
      "Epoch: 199/300, Train Loss: 0.0335, Validation Loss: 0.2745, Accuracy: 94.47%\n",
      "Epoch: 200/300, Train Loss: 0.0259, Validation Loss: 0.2744, Accuracy: 94.47%\n",
      "Epoch: 201/300, Train Loss: 0.0329, Validation Loss: 0.2747, Accuracy: 94.47%\n",
      "Epoch: 202/300, Train Loss: 0.0277, Validation Loss: 0.2746, Accuracy: 94.47%\n",
      "Epoch: 203/300, Train Loss: 0.0300, Validation Loss: 0.2741, Accuracy: 94.47%\n",
      "Epoch: 204/300, Train Loss: 0.0300, Validation Loss: 0.2741, Accuracy: 94.47%\n",
      "Epoch: 205/300, Train Loss: 0.0306, Validation Loss: 0.2744, Accuracy: 94.47%\n",
      "Epoch: 206/300, Train Loss: 0.0252, Validation Loss: 0.2749, Accuracy: 94.74%\n",
      "Epoch: 207/300, Train Loss: 0.0320, Validation Loss: 0.2747, Accuracy: 94.74%\n",
      "Epoch 00207: reducing learning rate of group 0 to 1.9531e-06.\n",
      "Epoch: 208/300, Train Loss: 0.0364, Validation Loss: 0.2745, Accuracy: 94.74%\n",
      "Epoch: 209/300, Train Loss: 0.0300, Validation Loss: 0.2745, Accuracy: 94.74%\n",
      "Epoch: 210/300, Train Loss: 0.0325, Validation Loss: 0.2744, Accuracy: 94.74%\n",
      "Epoch: 211/300, Train Loss: 0.0303, Validation Loss: 0.2745, Accuracy: 94.74%\n",
      "Epoch: 212/300, Train Loss: 0.0274, Validation Loss: 0.2745, Accuracy: 94.74%\n",
      "Epoch: 213/300, Train Loss: 0.0228, Validation Loss: 0.2744, Accuracy: 94.74%\n",
      "Epoch: 214/300, Train Loss: 0.0308, Validation Loss: 0.2746, Accuracy: 94.74%\n",
      "Epoch: 215/300, Train Loss: 0.0354, Validation Loss: 0.2744, Accuracy: 94.74%\n",
      "Epoch: 216/300, Train Loss: 0.0305, Validation Loss: 0.2744, Accuracy: 94.74%\n",
      "Epoch: 217/300, Train Loss: 0.0315, Validation Loss: 0.2745, Accuracy: 94.74%\n",
      "Epoch: 218/300, Train Loss: 0.0317, Validation Loss: 0.2746, Accuracy: 94.74%\n",
      "Epoch 00218: reducing learning rate of group 0 to 9.7656e-07.\n",
      "Epoch: 219/300, Train Loss: 0.0306, Validation Loss: 0.2746, Accuracy: 94.74%\n",
      "Epoch: 220/300, Train Loss: 0.0269, Validation Loss: 0.2746, Accuracy: 94.74%\n",
      "Epoch: 221/300, Train Loss: 0.0337, Validation Loss: 0.2745, Accuracy: 94.74%\n",
      "Epoch: 222/300, Train Loss: 0.0329, Validation Loss: 0.2745, Accuracy: 94.74%\n",
      "Epoch: 223/300, Train Loss: 0.0295, Validation Loss: 0.2745, Accuracy: 94.74%\n",
      "Epoch: 224/300, Train Loss: 0.0353, Validation Loss: 0.2745, Accuracy: 94.74%\n",
      "Epoch: 225/300, Train Loss: 0.0299, Validation Loss: 0.2744, Accuracy: 94.74%\n",
      "Epoch: 226/300, Train Loss: 0.0337, Validation Loss: 0.2743, Accuracy: 94.74%\n",
      "Epoch: 227/300, Train Loss: 0.0255, Validation Loss: 0.2744, Accuracy: 94.74%\n",
      "Epoch: 228/300, Train Loss: 0.0338, Validation Loss: 0.2744, Accuracy: 94.74%\n",
      "Epoch: 229/300, Train Loss: 0.0343, Validation Loss: 0.2745, Accuracy: 94.74%\n",
      "Epoch 00229: reducing learning rate of group 0 to 4.8828e-07.\n",
      "Epoch: 230/300, Train Loss: 0.0346, Validation Loss: 0.2745, Accuracy: 94.74%\n",
      "Epoch: 231/300, Train Loss: 0.0300, Validation Loss: 0.2745, Accuracy: 94.74%\n",
      "Epoch: 232/300, Train Loss: 0.0313, Validation Loss: 0.2746, Accuracy: 94.74%\n",
      "Epoch: 233/300, Train Loss: 0.0311, Validation Loss: 0.2747, Accuracy: 94.74%\n",
      "Epoch: 234/300, Train Loss: 0.0327, Validation Loss: 0.2747, Accuracy: 94.74%\n",
      "Epoch: 235/300, Train Loss: 0.0283, Validation Loss: 0.2747, Accuracy: 94.74%\n",
      "Epoch: 236/300, Train Loss: 0.0307, Validation Loss: 0.2748, Accuracy: 94.74%\n",
      "Epoch: 237/300, Train Loss: 0.0299, Validation Loss: 0.2749, Accuracy: 94.74%\n",
      "Epoch: 238/300, Train Loss: 0.0271, Validation Loss: 0.2749, Accuracy: 94.74%\n",
      "Epoch: 239/300, Train Loss: 0.0287, Validation Loss: 0.2749, Accuracy: 94.74%\n",
      "Epoch: 240/300, Train Loss: 0.0304, Validation Loss: 0.2750, Accuracy: 94.74%\n",
      "Epoch 00240: reducing learning rate of group 0 to 2.4414e-07.\n",
      "Epoch: 241/300, Train Loss: 0.0335, Validation Loss: 0.2750, Accuracy: 94.74%\n",
      "Epoch: 242/300, Train Loss: 0.0388, Validation Loss: 0.2750, Accuracy: 94.74%\n",
      "Epoch: 243/300, Train Loss: 0.0274, Validation Loss: 0.2750, Accuracy: 94.74%\n",
      "Epoch: 244/300, Train Loss: 0.0296, Validation Loss: 0.2750, Accuracy: 94.74%\n",
      "Epoch: 245/300, Train Loss: 0.0272, Validation Loss: 0.2750, Accuracy: 94.74%\n",
      "Epoch: 246/300, Train Loss: 0.0320, Validation Loss: 0.2750, Accuracy: 94.74%\n",
      "Epoch: 247/300, Train Loss: 0.0263, Validation Loss: 0.2750, Accuracy: 94.74%\n",
      "Epoch: 248/300, Train Loss: 0.0285, Validation Loss: 0.2750, Accuracy: 94.74%\n",
      "Epoch: 249/300, Train Loss: 0.0379, Validation Loss: 0.2750, Accuracy: 94.74%\n",
      "Epoch: 250/300, Train Loss: 0.0327, Validation Loss: 0.2750, Accuracy: 94.74%\n",
      "Epoch: 251/300, Train Loss: 0.0299, Validation Loss: 0.2750, Accuracy: 94.74%\n",
      "Epoch 00251: reducing learning rate of group 0 to 1.2207e-07.\n",
      "Epoch: 252/300, Train Loss: 0.0354, Validation Loss: 0.2751, Accuracy: 94.74%\n",
      "Epoch: 253/300, Train Loss: 0.0352, Validation Loss: 0.2751, Accuracy: 94.74%\n",
      "Epoch: 254/300, Train Loss: 0.0319, Validation Loss: 0.2751, Accuracy: 94.74%\n",
      "Epoch: 255/300, Train Loss: 0.0268, Validation Loss: 0.2750, Accuracy: 94.74%\n",
      "Epoch: 256/300, Train Loss: 0.0270, Validation Loss: 0.2750, Accuracy: 94.74%\n",
      "Epoch: 257/300, Train Loss: 0.0292, Validation Loss: 0.2750, Accuracy: 94.74%\n",
      "Epoch: 258/300, Train Loss: 0.0291, Validation Loss: 0.2750, Accuracy: 94.74%\n",
      "Epoch: 259/300, Train Loss: 0.0332, Validation Loss: 0.2750, Accuracy: 94.74%\n",
      "Epoch: 260/300, Train Loss: 0.0350, Validation Loss: 0.2750, Accuracy: 94.74%\n",
      "Epoch: 261/300, Train Loss: 0.0320, Validation Loss: 0.2750, Accuracy: 94.74%\n",
      "Epoch: 262/300, Train Loss: 0.0323, Validation Loss: 0.2750, Accuracy: 94.74%\n",
      "Epoch 00262: reducing learning rate of group 0 to 6.1035e-08.\n",
      "Epoch: 263/300, Train Loss: 0.0408, Validation Loss: 0.2750, Accuracy: 94.74%\n",
      "Epoch: 264/300, Train Loss: 0.0248, Validation Loss: 0.2750, Accuracy: 94.74%\n",
      "Epoch: 265/300, Train Loss: 0.0466, Validation Loss: 0.2750, Accuracy: 94.74%\n",
      "Epoch: 266/300, Train Loss: 0.0363, Validation Loss: 0.2750, Accuracy: 94.74%\n",
      "Epoch: 267/300, Train Loss: 0.0296, Validation Loss: 0.2750, Accuracy: 94.74%\n",
      "Epoch: 268/300, Train Loss: 0.0317, Validation Loss: 0.2750, Accuracy: 94.74%\n",
      "Epoch: 269/300, Train Loss: 0.0360, Validation Loss: 0.2750, Accuracy: 94.74%\n",
      "Epoch: 270/300, Train Loss: 0.0260, Validation Loss: 0.2750, Accuracy: 94.74%\n",
      "Epoch: 271/300, Train Loss: 0.0254, Validation Loss: 0.2750, Accuracy: 94.74%\n",
      "Epoch: 272/300, Train Loss: 0.0335, Validation Loss: 0.2750, Accuracy: 94.74%\n",
      "Epoch: 273/300, Train Loss: 0.0345, Validation Loss: 0.2750, Accuracy: 94.74%\n",
      "Epoch 00273: reducing learning rate of group 0 to 3.0518e-08.\n",
      "Epoch: 274/300, Train Loss: 0.0290, Validation Loss: 0.2750, Accuracy: 94.74%\n",
      "Epoch: 275/300, Train Loss: 0.0286, Validation Loss: 0.2750, Accuracy: 94.74%\n",
      "Epoch: 276/300, Train Loss: 0.0366, Validation Loss: 0.2750, Accuracy: 94.74%\n",
      "Epoch: 277/300, Train Loss: 0.0308, Validation Loss: 0.2750, Accuracy: 94.74%\n",
      "Epoch: 278/300, Train Loss: 0.0315, Validation Loss: 0.2750, Accuracy: 94.74%\n",
      "Epoch: 279/300, Train Loss: 0.0334, Validation Loss: 0.2750, Accuracy: 94.74%\n",
      "Epoch: 280/300, Train Loss: 0.0309, Validation Loss: 0.2750, Accuracy: 94.74%\n",
      "Epoch: 281/300, Train Loss: 0.0328, Validation Loss: 0.2750, Accuracy: 94.74%\n",
      "Epoch: 282/300, Train Loss: 0.0295, Validation Loss: 0.2750, Accuracy: 94.74%\n",
      "Epoch: 283/300, Train Loss: 0.0307, Validation Loss: 0.2750, Accuracy: 94.74%\n",
      "Epoch: 284/300, Train Loss: 0.0265, Validation Loss: 0.2750, Accuracy: 94.74%\n",
      "Epoch 00284: reducing learning rate of group 0 to 1.5259e-08.\n",
      "Epoch: 285/300, Train Loss: 0.0311, Validation Loss: 0.2750, Accuracy: 94.74%\n",
      "Epoch: 286/300, Train Loss: 0.0410, Validation Loss: 0.2750, Accuracy: 94.74%\n",
      "Epoch: 287/300, Train Loss: 0.0364, Validation Loss: 0.2751, Accuracy: 94.74%\n",
      "Epoch: 288/300, Train Loss: 0.0230, Validation Loss: 0.2751, Accuracy: 94.74%\n",
      "Epoch: 289/300, Train Loss: 0.0320, Validation Loss: 0.2751, Accuracy: 94.74%\n",
      "Epoch: 290/300, Train Loss: 0.0279, Validation Loss: 0.2751, Accuracy: 94.74%\n",
      "Epoch: 291/300, Train Loss: 0.0305, Validation Loss: 0.2751, Accuracy: 94.74%\n",
      "Epoch: 292/300, Train Loss: 0.0342, Validation Loss: 0.2751, Accuracy: 94.74%\n",
      "Epoch: 293/300, Train Loss: 0.0311, Validation Loss: 0.2751, Accuracy: 94.74%\n",
      "Epoch: 294/300, Train Loss: 0.0322, Validation Loss: 0.2751, Accuracy: 94.74%\n",
      "Epoch: 295/300, Train Loss: 0.0399, Validation Loss: 0.2751, Accuracy: 94.74%\n",
      "Epoch: 296/300, Train Loss: 0.0283, Validation Loss: 0.2751, Accuracy: 94.74%\n",
      "Epoch: 297/300, Train Loss: 0.0304, Validation Loss: 0.2751, Accuracy: 94.74%\n",
      "Epoch: 298/300, Train Loss: 0.0406, Validation Loss: 0.2751, Accuracy: 94.74%\n",
      "Epoch: 299/300, Train Loss: 0.0394, Validation Loss: 0.2751, Accuracy: 94.74%\n",
      "Epoch: 300/300, Train Loss: 0.0298, Validation Loss: 0.2751, Accuracy: 94.74%\n"
     ]
    }
   ],
   "source": [
    "# 初始化数据列表，用于存储训练损失、验证损失和准确率\n",
    "train_losses = []\n",
    "validation_losses = []\n",
    "accuracies = []\n",
    "\n",
    "# 设置训练的轮数\n",
    "epochs = 300\n",
    "\n",
    "# 早停参数\n",
    "patience = 300\n",
    "best_val_loss = float('inf')  \n",
    "early_stopping_counter = 0\n",
    "\n",
    "# 定义模型、损失函数和优化器\n",
    "criterion = nn.CrossEntropyLoss().to(device)\n",
    "optimizer = torch.optim.Adam(model.parameters(), lr=0.001, weight_decay=1e-4)\n",
    "\n",
    "# 学习率调度器\n",
    "scheduler = torch.optim.lr_scheduler.ReduceLROnPlateau(optimizer, 'min', patience=10, factor=0.5, verbose=True)\n",
    "\n",
    "# 开始训练\n",
    "for epoch in range(epochs):\n",
    "    model.train()\n",
    "    train_loss = 0\n",
    "    for batch_X, batch_y in train_loader:\n",
    "        batch_X, batch_y = batch_X.to(device), batch_y.to(device)\n",
    "        \n",
    "        optimizer.zero_grad()\n",
    "        output = model(batch_X)\n",
    "        loss = criterion(output, batch_y)\n",
    "        train_loss += loss.item()\n",
    "        loss.backward()\n",
    "        optimizer.step()\n",
    "        \n",
    "    train_losses.append(train_loss / len(train_loader))\n",
    "\n",
    "    model.eval()\n",
    "    validation_loss = 0\n",
    "    correct_predictions = 0\n",
    "    total_predictions = 0\n",
    "    with torch.no_grad():\n",
    "        for batch_X, batch_y in test_loader:\n",
    "            batch_X, batch_y = batch_X.to(device), batch_y.to(device)\n",
    "            output = model(batch_X)\n",
    "            loss = criterion(output, batch_y)\n",
    "            validation_loss += loss.item()\n",
    "            _, predicted = torch.max(output, 1)\n",
    "            correct_predictions += (predicted == batch_y).sum().item()\n",
    "            total_predictions += batch_y.size(0)\n",
    "    \n",
    "    validation_losses.append(validation_loss / len(test_loader))\n",
    "    accuracy = correct_predictions / total_predictions\n",
    "    accuracies.append(accuracy)\n",
    "\n",
    "    print(f\"Epoch: {epoch + 1}/{epochs}, Train Loss: {train_losses[-1]:.4f}, Validation Loss: {validation_losses[-1]:.4f}, Accuracy: {accuracy * 100:.2f}%\")\n",
    "    \n",
    "    # 更新学习率调度器\n",
    "    scheduler.step(validation_losses[-1])\n",
    "\n",
    "    if validation_losses[-1] < best_val_loss:\n",
    "        best_val_loss = validation_losses[-1]\n",
    "        early_stopping_counter = 0\n",
    "    else:\n",
    "        early_stopping_counter += 1\n",
    "        if early_stopping_counter >= patience:\n",
    "            print(\"Early Stopping!\")\n",
    "            break\n"
   ]
  },
  {
   "cell_type": "markdown",
   "metadata": {},
   "source": [
    "torch.optim.lr_scheduler.ReduceLROnPlateau是用于调整学习率的调度器。\n",
    "\n",
    "'min'意味着当被监视的数量停止下降时，学习率将减少。\n",
    "\n",
    "patience=10是等待改进的轮数。例如，如果patience=10，那么在连续10个轮次中没有改进，学习率就会降低。\n",
    "\n",
    "factor=0.5是减少学习率的因子。新的学习率将是旧学习率乘以这个因子。\n",
    "\n",
    "verbose=True表示当学习率降低时，会打印一条消息。\n"
   ]
  },
  {
   "cell_type": "code",
   "execution_count": 26,
   "metadata": {},
   "outputs": [],
   "source": [
    "eazy_train =train_losses\n",
    "eazy_validation =validation_losses\n",
    "eazy_accuracies =accuracies\n"
   ]
  },
  {
   "cell_type": "code",
   "execution_count": 119,
   "metadata": {},
   "outputs": [],
   "source": [
    "train2 =train_losses\n",
    "validation2 =validation_losses\n",
    "accuracies2 =accuracies"
   ]
  },
  {
   "cell_type": "code",
   "execution_count": 28,
   "metadata": {},
   "outputs": [
    {
     "data": {
      "image/png": "[encoded data removed]",
      "text/plain": [
       "<Figure size 640x480 with 1 Axes>"
      ]
     },
     "metadata": {},
     "output_type": "display_data"
    }
   ],
   "source": [
    "# 绘制曲线图\n",
    "plt.figure()\n",
    "plt.plot(eazy_train, label='Training Loss')\n",
    "\n",
    "plt.plot(eazy_validation, label='Validation Loss')\n",
    "\n",
    "plt.plot(eazy_accuracies, label='Accuracy')\n",
    "\n",
    "plt.xlabel('Epoch')\n",
    "plt.ylabel('Loss & Accuracy')\n",
    "plt.title('Training and Validation Loss & Accuracy')\n",
    "plt.legend()\n",
    "plt.show()"
   ]
  },
  {
   "cell_type": "code",
   "execution_count": 120,
   "metadata": {},
   "outputs": [
    {
     "data": {
      "image/png": "[encoded data removed]",
      "text/plain": [
       "<Figure size 640x480 with 1 Axes>"
      ]
     },
     "metadata": {},
     "output_type": "display_data"
    }
   ],
   "source": [
    "# 绘制曲线图\n",
    "plt.figure()\n",
    "plt.plot(eazy_train, label='Training Loss')\n",
    "plt.plot(train2, label='Training2 Loss')\n",
    "plt.plot(eazy_validation, label='Validation Loss')\n",
    "plt.plot(validation2, label='Validation2 Loss')\n",
    "plt.plot(eazy_accuracies, label='Accuracy')\n",
    "plt.plot(accuracies2, label='Accuracy2')\n",
    "\n",
    "plt.xlabel('Epoch')\n",
    "plt.ylabel('Loss & Accuracy')\n",
    "plt.title('Training and Validation Loss & Accuracy')\n",
    "plt.legend()\n",
    "plt.show()\n"
   ]
  },
  {
   "cell_type": "code",
   "execution_count": 121,
   "metadata": {},
   "outputs": [
    {
     "data": {
      "text/plain": [
       "SelfAttentionModel(\n",
       "  (embedding): Linear(in_features=42, out_features=256, bias=True)\n",
       "  (self_attention): MultiheadAttention(\n",
       "    (query): Linear(in_features=256, out_features=256, bias=True)\n",
       "    (key): Linear(in_features=256, out_features=256, bias=True)\n",
       "    (value): Linear(in_features=256, out_features=256, bias=True)\n",
       "    (fc_out): Linear(in_features=256, out_features=256, bias=True)\n",
       "    (dropout): Dropout(p=0.5, inplace=False)\n",
       "  )\n",
       "  (layer_norm1): LayerNorm((256,), eps=1e-05, elementwise_affine=True)\n",
       "  (fc1): Linear(in_features=256, out_features=1024, bias=True)\n",
       "  (fc2): Linear(in_features=1024, out_features=256, bias=True)\n",
       "  (relu): ReLU()\n",
       "  (layer_norm2): LayerNorm((256,), eps=1e-05, elementwise_affine=True)\n",
       "  (fc_out): Linear(in_features=256, out_features=10, bias=True)\n",
       "  (dropout1): Dropout(p=0.5, inplace=False)\n",
       "  (dropout2): Dropout(p=0.5, inplace=False)\n",
       ")"
      ]
     },
     "execution_count": 121,
     "metadata": {},
     "output_type": "execute_result"
    }
   ],
   "source": [
    "torch.save(model.state_dict(), 'D:\\helloworld\\VT1\\model_attention\\model1.pth')\n",
    "loaded_model = SelfAttentionModel(input_size, hidden_size, output_size).to(device)\n",
    "loaded_model.load_state_dict(torch.load('D:\\helloworld\\VT1\\model_attention\\model1.pth'))\n",
    "loaded_model.eval()"
   ]
  },
  {
   "cell_type": "markdown",
   "metadata": {},
   "source": [
    "# 视频"
   ]
  },
  {
   "cell_type": "code",
   "execution_count": 122,
   "metadata": {},
   "outputs": [],
   "source": [
    "# 初始化 MediaPipe Hands API\n",
    "mp_hands = mp.solutions.hands\n",
    "mp_drawing = mp.solutions.drawing_utils\n",
    "\n",
    "\n",
    "video_path = 'D:\\\\helloworld\\\\VT1\\\\test_video\\\\test.mp4'\n",
    "output_path = 'D:\\\\helloworld\\\\VT1\\\\test_video\\\\test_val_attention2.mp4'\n",
    "\n",
    "cap = cv2.VideoCapture(video_path)\n",
    "fourcc = cv2.VideoWriter_fourcc(*'mp4v')\n",
    "fps = cap.get(cv2.CAP_PROP_FPS)\n",
    "frame_size = (int(cap.get(cv2.CAP_PROP_FRAME_WIDTH)), int(cap.get(cv2.CAP_PROP_FRAME_HEIGHT)))\n",
    "out = cv2.VideoWriter(output_path, fourcc, fps, frame_size)\n",
    "\n",
    "probabilities_per_frame = {}\n",
    "max_gesture_per_frame = {}\n",
    "frame_steps = []\n",
    "\n"
   ]
  },
  {
   "cell_type": "code",
   "execution_count": 124,
   "metadata": {},
   "outputs": [],
   "source": [
    "# 初始化 MediaPipe Hands 模型\n",
    "with mp_hands.Hands(static_image_mode=False, max_num_hands=1, min_detection_confidence=0.5, min_tracking_confidence=0.5) as hand_model:\n",
    "    frame_step = 0  # 初始化帧步数\n",
    "    while cap.isOpened():  # 当视频文件可以正常打开时\n",
    "        ret, frame = cap.read()  # 读取一帧\n",
    "        if not ret:  # 如果读取失败，则退出循环\n",
    "            break\n",
    "\n",
    "        # 更新帧步数，并将其添加到列表中\n",
    "        frame_step += 1\n",
    "        frame_steps.append(frame_step)\n",
    "\n",
    "        # 以下代码大部分与之前相同，除了将“second”替换为“frame_step”\n",
    "\n",
    "        timestamp = cap.get(cv2.CAP_PROP_POS_MSEC) / 1000.0  # 获取当前帧的时间戳（秒）\n",
    "        second = math.floor(timestamp)  # 将时间戳向下取整，得到当前帧所在的秒数\n",
    "\n",
    "        # 将帧的颜色空间从 BGR 转为 RGB\n",
    "        image = cv2.cvtColor(frame, cv2.COLOR_BGR2RGB)\n",
    "        # 使用手部模型对图像进行处理\n",
    "        result = hand_model.process(image)\n",
    "        # 将图像的颜色空间转回 BGR，以便后续的显示和保存\n",
    "        image = cv2.cvtColor(image, cv2.COLOR_RGB2BGR)\n",
    "\n",
    "        if result.multi_hand_landmarks:  # 如果在图像中检测到手部\n",
    "            # 以下代码与之前相同，除了将“second”替换为“frame_step”\n",
    "\n",
    "            landmarks = result.multi_hand_landmarks[0]  # 获取第一只检测到的手的标记点\n",
    "            mp_drawing.draw_landmarks(frame, landmarks, mp_hands.HAND_CONNECTIONS)\n",
    "\n",
    "            x, y = [], []\n",
    "            for lm in landmarks.landmark:  # 遍历所有标记点\n",
    "                x.append(lm.x)  # 保存标记点的 x 坐标\n",
    "                y.append(lm.y)  # 保存标记点的 y 坐标\n",
    "\n",
    "            points = np.asarray([x, y])\n",
    "            min = points.min(axis=1, keepdims=True)\n",
    "            max = points.max(axis=1, keepdims=True)\n",
    "            normalized = np.stack((points - min) / (max - min), axis=1).flatten()\n",
    "\n",
    "            keypoints = torch.tensor(normalized, dtype=torch.float32).unsqueeze(0).unsqueeze(1).to(device)\n",
    "            with torch.no_grad():\n",
    "                output = loaded_model(keypoints)\n",
    "                probabilities = torch.softmax(output, dim=1)\n",
    "                gesture = torch.argmax(probabilities, dim=1).item()\n",
    "\n",
    "            confidence = probabilities.max().item()\n",
    "\n",
    "            if frame_step not in max_gesture_per_frame or confidence > max_gesture_per_frame[frame_step][1]:\n",
    "                max_gesture_per_frame[frame_step] = (gesture, confidence)\n",
    "\n",
    "            # 使用 LabelEncoder 的 inverse_transform 方法将预测的标签编码转换回原始标签\n",
    "            gesture_name = label_encoder.inverse_transform([gesture])[0]\n",
    "            cv2.putText(frame, f'Gesture: {gesture_name}, Confidence: {confidence:.2f}', (10, 30), cv2.FONT_HERSHEY_SIMPLEX, 1, (255, 0, 0), 2)\n",
    "\n",
    "            # 获取所有的类别名\n",
    "            class_names = label_encoder.classes_\n",
    "\n",
    "            # 定义起始位置\n",
    "            start_x = 10\n",
    "            start_y = 50\n",
    "\n",
    "            # 遍历所有的类别名和对应的概率\n",
    "            for i, (class_name, prob) in enumerate(zip(class_names, probabilities.squeeze().tolist())):\n",
    "                color = (0, 255, 0)  # 默认为绿色\n",
    "                if prob > 0.1:\n",
    "                    color = (0, 0, 255)  # 红色\n",
    "                text = f'{class_name}: {prob:.2f}'  # 使用class_name，而不是gesture_name[i]\n",
    "                cv2.putText(frame, text, (start_x, start_y + i*30), cv2.FONT_HERSHEY_SIMPLEX, 0.7, color, 2)\n",
    "\n",
    "                                \n",
    "        out.write(frame)\n",
    "\n",
    "cap.release()\n",
    "out.release()"
   ]
  }
 ],
 "metadata": {
  "kernelspec": {
   "display_name": "pytorch",
   "language": "python",
   "name": "python3"
  },
  "language_info": {
   "codemirror_mode": {
    "name": "ipython",
    "version": 3
   },
   "file_extension": ".py",
   "mimetype": "text/x-python",
   "name": "python",
   "nbconvert_exporter": "python",
   "pygments_lexer": "ipython3",
   "version": "3.8.15"
  },
  "orig_nbformat": 4
 },
 "nbformat": 4,
 "nbformat_minor": 2
}
